{
 "cells": [
  {
   "cell_type": "markdown",
   "id": "79fbb4b1",
   "metadata": {},
   "source": [
    "# 1. Overtime Model"
   ]
  },
  {
   "cell_type": "code",
   "execution_count": 1,
   "id": "e1ee5a57",
   "metadata": {},
   "outputs": [
    {
     "name": "stdout",
     "output_type": "stream",
     "text": [
      "\n",
      "Problem: \n",
      "- Name: x1\n",
      "  Lower bound: 1518221.0\n",
      "  Upper bound: 1518324.0000000002\n",
      "  Number of objectives: 1\n",
      "  Number of constraints: 200\n",
      "  Number of variables: 436\n",
      "  Number of binary variables: 0\n",
      "  Number of integer variables: 430\n",
      "  Number of continuous variables: 6\n",
      "  Number of nonzeros: 1332\n",
      "  Sense: maximize\n",
      "Solver: \n",
      "- Status: ok\n",
      "  Return code: 0\n",
      "  Message: Model was solved to optimality (subject to tolerances), and an optimal solution is available.\n",
      "  Termination condition: optimal\n",
      "  Termination message: Model was solved to optimality (subject to tolerances), and an optimal solution is available.\n",
      "  Wall time: 0.026999950408935547\n",
      "  Error rc: 0\n",
      "Solution: \n",
      "- number of solutions: 0\n",
      "  number of solutions displayed: 0\n",
      "\n",
      "Optimal_profit= 1518221.0\n"
     ]
    }
   ],
   "source": [
    "import pandas as pd\n",
    "import sys\n",
    "import os\n",
    "\n",
    "pd.set_option(\"display.max_columns\", None)\n",
    "pd.set_option(\"display.width\", 200)   # Increase width (default is 80)\n",
    "# Add project root (one level up from \"output/\") to Python path\n",
    "sys.path.append(os.path.abspath(\"..\"))\n",
    "\n",
    "from models import overtime_model as Om\n",
    "from models.overtime_model import *"
   ]
  },
  {
   "cell_type": "markdown",
   "id": "c014e925",
   "metadata": {},
   "source": [
    "##### 1.1. Optimal profit value "
   ]
  },
  {
   "cell_type": "code",
   "execution_count": 2,
   "id": "a570c305",
   "metadata": {},
   "outputs": [
    {
     "name": "stdout",
     "output_type": "stream",
     "text": [
      "optval=1518221.0\n"
     ]
    }
   ],
   "source": [
    "overtime_obj=value(model.obj)\n",
    "print(f'optval={overtime_obj}')"
   ]
  },
  {
   "cell_type": "markdown",
   "id": "af908ddf",
   "metadata": {},
   "source": [
    "##### 1.2. Optimal production table"
   ]
  },
  {
   "cell_type": "code",
   "execution_count": 3,
   "id": "6ffde7dc",
   "metadata": {},
   "outputs": [
    {
     "name": "stdout",
     "output_type": "stream",
     "text": [
      "\n",
      "**Optimal Production Plan**:\n",
      "\n",
      "      Product  Factory_1  Factory_2  Factory_3  Total_Prod\n",
      "0          P1       70.0       86.0       35.0       191.0\n",
      "1          P2       -0.0       51.0      155.0       206.0\n",
      "2          P3       80.0      107.0       24.0       211.0\n",
      "3          P4      125.0       48.0       34.0       207.0\n",
      "4          P5       42.0      135.0       36.0       213.0\n",
      "5          P6       92.0       45.0       34.0       171.0\n",
      "6          P7      121.0      147.0       35.0       303.0\n",
      "7          P8       81.0       83.0       50.0       214.0\n",
      "8          P9       -0.0       48.0      159.0       207.0\n",
      "9         P10       91.0       50.0       38.0       179.0\n",
      "Total   Total      702.0      800.0      600.0      2102.0\n"
     ]
    }
   ],
   "source": [
    "Product = {\n",
    "    'Product': [f'P{i}' for i in range(1,11)],\n",
    "    'Factory_1': [value(p[i,1]) for i in range(1,11)],\n",
    "    'Factory_2': [value(p[i,2]) for i in range(1,11)],\n",
    "    'Factory_3': [value(p[i,3]) for i in range(1,11)]\n",
    "}\n",
    "\n",
    "# Create DataFrame\n",
    "df_prod = pd.DataFrame(Product)\n",
    "\n",
    "# Row total (per product across factories)\n",
    "df_prod[\"Total_Prod\"] = df_prod[['Factory_1','Factory_2','Factory_3']].sum(axis=1)\n",
    "\n",
    "# Column totals (sum over all products)\n",
    "df_prod.loc['Total'] = df_prod.drop(columns=\"Product\").sum()\n",
    "df_prod.loc['Total','Product'] = 'Total'\n",
    "\n",
    "print(\"\\n**Optimal Production Plan**:\\n\")\n",
    "print(df_prod)\n"
   ]
  },
  {
   "cell_type": "markdown",
   "id": "96e57978",
   "metadata": {},
   "source": [
    "##### 1.3. Store optimal demand fill table"
   ]
  },
  {
   "cell_type": "code",
   "execution_count": 4,
   "id": "2b903664",
   "metadata": {},
   "outputs": [
    {
     "name": "stdout",
     "output_type": "stream",
     "text": [
      "\n",
      "**Store Demand Filled**:\n",
      "\n",
      "      Product     S1     S2     S3     S4     S5  Total_filled\n",
      "0          P1   40.0   38.0   30.0   48.0   35.0         191.0\n",
      "1          P2   35.0   43.0   45.0   50.0   33.0         206.0\n",
      "2          P3   45.0   48.0   35.0   43.0   40.0         211.0\n",
      "3          P4   50.0   35.0   40.0   39.0   43.0         207.0\n",
      "4          P5   30.0   50.0   48.0   40.0   45.0         213.0\n",
      "5          P6   25.0   33.0   38.0   45.0   30.0         171.0\n",
      "6          P7   56.0   45.0   85.0   69.0   48.0         303.0\n",
      "7          P8   48.0   40.0   33.0   43.0   50.0         214.0\n",
      "8          P9   38.0   43.0   35.0   48.0   43.0         207.0\n",
      "9         P10   33.0   30.0   28.0   50.0   38.0         179.0\n",
      "Total   Total  400.0  405.0  417.0  475.0  405.0        2102.0\n"
     ]
    }
   ],
   "source": [
    "Store = {\n",
    "    'Product': [f'P{i}' for i in range(1,11)],\n",
    "    'S1': [value(sum(r[i,k,1] for k in range(1,6))) for i in range(1,11)],\n",
    "    'S2': [value(sum(r[i,k,2] for k in range(1,6))) for i in range(1,11)],\n",
    "    'S3': [value(sum(r[i,k,3] for k in range(1,6))) for i in range(1,11)],\n",
    "    'S4': [value(sum(r[i,k,4] for k in range(1,6))) for i in range(1,11)],\n",
    "    'S5': [value(sum(r[i,k,5] for k in range(1,6))) for i in range(1,11)]\n",
    "}\n",
    "\n",
    "# Create DataFrame\n",
    "df_store = pd.DataFrame(Store)\n",
    "\n",
    "# Row totals (per product across all stores)\n",
    "df_store[\"Total_filled\"] = df_store[['S1','S2','S3','S4','S5']].sum(axis=1)\n",
    "\n",
    "# Column totals (across all products)\n",
    "df_store.loc['Total'] = df_store.drop(columns=\"Product\").sum()\n",
    "df_store.loc['Total','Product'] = 'Total'\n",
    "\n",
    "print(\"\\n**Store Demand Filled**:\\n\")\n",
    "print(df_store)"
   ]
  },
  {
   "cell_type": "markdown",
   "id": "bab86156",
   "metadata": {},
   "source": [
    "##### 1.4. Factory to warehouse optimal shipping allocation"
   ]
  },
  {
   "cell_type": "code",
   "execution_count": 5,
   "id": "af36c0f7",
   "metadata": {},
   "outputs": [
    {
     "name": "stdout",
     "output_type": "stream",
     "text": [
      "\n",
      "**Factory -> Warehouse Shipments**:\n",
      "\n",
      "      Factory Warehouse     P1     P2     P3     P4     P5     P6     P7     P8     P9    P10  Total_Shipment\n",
      "0          F1        W1   -0.0   -0.0   -0.0   -0.0   -0.0   -0.0   -0.0   -0.0   -0.0   -0.0             0.0\n",
      "1          F1        W2   -0.0   -0.0   -0.0   -0.0   -0.0   -0.0   -0.0   -0.0   -0.0   -0.0             0.0\n",
      "2          F1        W3   70.0   -0.0   80.0  125.0   42.0   92.0  121.0   81.0   -0.0   91.0           702.0\n",
      "3          F1        W4   -0.0   -0.0   -0.0   -0.0   -0.0   -0.0   -0.0   -0.0   -0.0   -0.0             0.0\n",
      "4          F1        W5   -0.0   -0.0   -0.0   -0.0   -0.0   -0.0   -0.0   -0.0   -0.0   -0.0             0.0\n",
      "5          F2        W1   86.0   51.0  107.0   48.0  135.0   45.0  147.0   83.0   48.0   50.0           800.0\n",
      "6          F2        W2   -0.0   -0.0   -0.0    0.0   -0.0   -0.0   -0.0   -0.0   -0.0   -0.0             0.0\n",
      "7          F2        W3   -0.0   -0.0   -0.0   -0.0   -0.0   -0.0   -0.0   -0.0   -0.0   -0.0             0.0\n",
      "8          F2        W4   -0.0   -0.0   -0.0   -0.0   -0.0   -0.0   -0.0   -0.0   -0.0   -0.0             0.0\n",
      "9          F2        W5   -0.0   -0.0   -0.0   -0.0   -0.0   -0.0   -0.0   -0.0   -0.0   -0.0             0.0\n",
      "10         F3        W1   -0.0   -0.0   -0.0   -0.0   -0.0   -0.0   -0.0   -0.0   -0.0   -0.0             0.0\n",
      "11         F3        W2   35.0   33.0   24.0   34.0   -0.0   30.0   15.0   50.0   43.0   38.0           302.0\n",
      "12         F3        W3   -0.0  122.0   -0.0   -0.0   36.0    4.0   20.0   -0.0  116.0   -0.0           298.0\n",
      "13         F3        W4   -0.0   -0.0   -0.0   -0.0   -0.0   -0.0   -0.0   -0.0   -0.0   -0.0             0.0\n",
      "14         F3        W5   -0.0   -0.0   -0.0   -0.0   -0.0   -0.0   -0.0   -0.0   -0.0   -0.0             0.0\n",
      "Total   Total         -  191.0  206.0  211.0  207.0  213.0  171.0  303.0  214.0  207.0  179.0          2102.0\n"
     ]
    }
   ],
   "source": [
    "Ship_FW = []\n",
    "for j in range(1,4):      # Factories\n",
    "    for k in range(1,6):  # Warehouses\n",
    "        row = {\n",
    "            'Factory': f'F{j}',\n",
    "            'Warehouse': f'W{k}'\n",
    "        }\n",
    "        # Add shipments for each product\n",
    "        for i in range(1,11):\n",
    "            row[f'P{i}'] = value(q[i, j, k])\n",
    "        Ship_FW.append(row)\n",
    "\n",
    "df_ship1 = pd.DataFrame(Ship_FW)\n",
    "\n",
    "# Add row totals (sum across P1...P10)\n",
    "df_ship1[\"Total_Shipment\"] = df_ship1[[f'P{i}' for i in range(1,11)]].sum(axis=1)\n",
    "\n",
    "# Add column totals (sum across all factory-warehouse pairs)\n",
    "totals = df_ship1.drop(columns=[\"Factory\",\"Warehouse\"]).sum()\n",
    "totals[\"Factory\"] = \"Total\"\n",
    "totals[\"Warehouse\"] = \"-\"\n",
    "df_ship1.loc['Total'] = totals\n",
    "\n",
    "print(\"\\n**Factory -> Warehouse Shipments**:\\n\")\n",
    "print(df_ship1)\n"
   ]
  },
  {
   "cell_type": "markdown",
   "id": "c7752f2c",
   "metadata": {},
   "source": [
    "##### 1.5. Warehouse to Stores optimal shipping allocation"
   ]
  },
  {
   "cell_type": "code",
   "execution_count": 6,
   "id": "50e2f61c",
   "metadata": {},
   "outputs": [
    {
     "name": "stdout",
     "output_type": "stream",
     "text": [
      "\n",
      "**Warehouse -> Store Shipments**:\n",
      "\n",
      "      Warehouse Store     P1     P2     P3     P4     P5     P6     P7     P8     P9    P10  Total_Shipment\n",
      "0            W1    S1    0.0    0.0    0.0    0.0    0.0    0.0    0.0    0.0    0.0    0.0             0.0\n",
      "1            W1    S2   38.0    1.0   48.0    0.0   50.0    0.0   45.0   40.0    0.0    0.0           222.0\n",
      "2            W1    S3    0.0    0.0    0.0    0.0    0.0    0.0    0.0    0.0    0.0    0.0             0.0\n",
      "3            W1    S4   48.0   50.0   43.0   39.0   40.0   45.0   69.0   43.0   48.0   50.0           475.0\n",
      "4            W1    S5    0.0    0.0   16.0    9.0   45.0    0.0   33.0    0.0    0.0    0.0           103.0\n",
      "5            W2    S1    0.0    0.0    0.0    0.0    0.0    0.0    0.0    0.0    0.0    0.0             0.0\n",
      "6            W2    S2    0.0    0.0    0.0    0.0    0.0    0.0    0.0    0.0    0.0    0.0             0.0\n",
      "7            W2    S3    0.0    0.0    0.0    0.0    0.0    0.0    0.0    0.0    0.0    0.0             0.0\n",
      "8            W2    S4    0.0    0.0    0.0    0.0    0.0    0.0    0.0    0.0    0.0    0.0             0.0\n",
      "9            W2    S5   35.0   33.0   24.0   34.0    0.0   30.0   15.0   50.0   43.0   38.0           302.0\n",
      "10           W3    S1   40.0   35.0   45.0   50.0   30.0   25.0   56.0   48.0   38.0   33.0           400.0\n",
      "11           W3    S2    0.0   42.0    0.0   35.0    0.0   33.0    0.0    0.0   43.0   30.0           183.0\n",
      "12           W3    S3   30.0   45.0   35.0   40.0   48.0   38.0   85.0   33.0   35.0   28.0           417.0\n",
      "13           W3    S4    0.0    0.0    0.0    0.0    0.0    0.0    0.0    0.0    0.0    0.0             0.0\n",
      "14           W3    S5    0.0    0.0    0.0    0.0    0.0    0.0    0.0    0.0    0.0    0.0             0.0\n",
      "15           W4    S1    0.0    0.0    0.0    0.0    0.0    0.0    0.0    0.0    0.0    0.0             0.0\n",
      "16           W4    S2    0.0    0.0    0.0    0.0    0.0    0.0    0.0    0.0    0.0    0.0             0.0\n",
      "17           W4    S3    0.0    0.0    0.0    0.0    0.0    0.0    0.0    0.0    0.0    0.0             0.0\n",
      "18           W4    S4    0.0    0.0    0.0    0.0    0.0    0.0    0.0    0.0    0.0    0.0             0.0\n",
      "19           W4    S5    0.0    0.0    0.0    0.0    0.0    0.0    0.0    0.0    0.0    0.0             0.0\n",
      "20           W5    S1    0.0    0.0    0.0    0.0    0.0    0.0    0.0    0.0    0.0    0.0             0.0\n",
      "21           W5    S2    0.0    0.0    0.0    0.0    0.0    0.0    0.0    0.0    0.0    0.0             0.0\n",
      "22           W5    S3    0.0    0.0    0.0    0.0    0.0    0.0    0.0    0.0    0.0    0.0             0.0\n",
      "23           W5    S4    0.0    0.0    0.0    0.0    0.0    0.0    0.0    0.0    0.0    0.0             0.0\n",
      "24           W5    S5    0.0    0.0    0.0    0.0    0.0    0.0    0.0    0.0    0.0    0.0             0.0\n",
      "Total     Total     -  191.0  206.0  211.0  207.0  213.0  171.0  303.0  214.0  207.0  179.0          2102.0\n"
     ]
    }
   ],
   "source": [
    "Ship_WS = []\n",
    "for k in range(1,6):      # Warehouses\n",
    "    for s in range(1,6):  # Stores\n",
    "        row = {\n",
    "            'Warehouse': f'W{k}',\n",
    "            'Store': f'S{s}'\n",
    "        }\n",
    "        # Har product ka value add\n",
    "        for i in range(1,11):\n",
    "            row[f'P{i}'] = value(r[i, k, s])\n",
    "        Ship_WS.append(row)\n",
    "\n",
    "df_ship2 = pd.DataFrame(Ship_WS)\n",
    "\n",
    "# Row total (shipment for each W→S pair across all products)\n",
    "df_ship2[\"Total_Shipment\"] = df_ship2[[f'P{i}' for i in range(1,11)]].sum(axis=1)\n",
    "\n",
    "# Column totals (total per product across all routes)\n",
    "totals = df_ship2.drop(columns=[\"Warehouse\",\"Store\"]).sum()\n",
    "totals[\"Warehouse\"] = \"Total\"\n",
    "totals[\"Store\"] = \"-\"\n",
    "df_ship2.loc['Total'] = totals\n",
    "\n",
    "print(\"\\n**Warehouse -> Store Shipments**:\\n\")\n",
    "print(df_ship2)\n"
   ]
  },
  {
   "cell_type": "markdown",
   "id": "fc54807e",
   "metadata": {},
   "source": []
  }
 ],
 "metadata": {
  "kernelspec": {
   "display_name": "optim_env",
   "language": "python",
   "name": "python3"
  },
  "language_info": {
   "codemirror_mode": {
    "name": "ipython",
    "version": 3
   },
   "file_extension": ".py",
   "mimetype": "text/x-python",
   "name": "python",
   "nbconvert_exporter": "python",
   "pygments_lexer": "ipython3",
   "version": "3.11.10"
  }
 },
 "nbformat": 4,
 "nbformat_minor": 5
}
